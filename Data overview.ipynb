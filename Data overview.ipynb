{
 "cells": [
  {
   "cell_type": "code",
   "execution_count": 2,
   "id": "8fb2421d-e59b-44d0-88ed-30fa8f1ab89f",
   "metadata": {},
   "outputs": [],
   "source": [
    "import anndata as ad"
   ]
  },
  {
   "cell_type": "code",
   "execution_count": 4,
   "id": "47e10005-42c7-47fe-9e88-9789d62f321f",
   "metadata": {},
   "outputs": [
    {
     "data": {
      "text/plain": [
       "AnnData object with n_obs × n_vars = 67663 × 42854\n",
       "    obs: 'Sample_num', 'Clusters', 'celltype', 'Region'\n",
       "    var: 'chrm', 'start', 'end', 'score', 'groupScoreQuantile', 'distToGeneStart', 'nearestGene', 'peakType', 'distToTSS', 'peakID'"
      ]
     },
     "execution_count": 4,
     "metadata": {},
     "output_type": "execute_result"
    }
   ],
   "source": [
    "#single cell peak matrix used to generate the training dataset.\n",
    "peak_matrix = ad.read_h5ad(\"./data/pbmc_data/adata_peak_matrix.h5\")\n",
    "peak_matrix"
   ]
  },
  {
   "cell_type": "code",
   "execution_count": null,
   "id": "f330f319-8cb5-467e-b5d8-7232eae3e5b8",
   "metadata": {},
   "outputs": [],
   "source": []
  }
 ],
 "metadata": {
  "kernelspec": {
   "display_name": "Python 3 (ipykernel)",
   "language": "python",
   "name": "python3"
  },
  "language_info": {
   "codemirror_mode": {
    "name": "ipython",
    "version": 3
   },
   "file_extension": ".py",
   "mimetype": "text/x-python",
   "name": "python",
   "nbconvert_exporter": "python",
   "pygments_lexer": "ipython3",
   "version": "3.13.0"
  }
 },
 "nbformat": 4,
 "nbformat_minor": 5
}
